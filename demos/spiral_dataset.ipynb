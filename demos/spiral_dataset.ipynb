{
 "cells": [
  {
   "cell_type": "markdown",
   "metadata": {},
   "source": [
    "Here we create an artifical dataset containing data points that are not linearly separable, and we train and evaluate a multi-layer perceptron using the framework."
   ]
  },
  {
   "cell_type": "code",
   "execution_count": 1,
   "metadata": {},
   "outputs": [],
   "source": [
    "import numpy as np\n",
    "import matplotlib.pyplot as plt\n",
    "\n",
    "import autodiff as ad\n",
    "from autodiff import initializers\n",
    "from autodiff import optimizers\n",
    "\n",
    "random_state = np.random.RandomState(0)"
   ]
  },
  {
   "cell_type": "markdown",
   "metadata": {},
   "source": [
    "The artifical dataset contains 450 dots in 2-D space, with 150 dots in each of the three classes."
   ]
  },
  {
   "cell_type": "code",
   "execution_count": 2,
   "metadata": {},
   "outputs": [],
   "source": [
    "# Creaing an artifical classification dataset that are not linearly separable.\n",
    "features = 2\n",
    "classes = 3 # number of classes\n",
    "batch = 150 # number of points per class\n",
    "\n",
    "x = np.zeros((batch * classes, features))\n",
    "y = np.zeros((batch * classes, classes))\n",
    "for j in range(classes):\n",
    "  ix = range(batch * j, batch * (j + 1))\n",
    "  r = np.linspace(0.0, 1, batch) # radius\n",
    "  t = np.linspace(j * 4, (j + 1) * 4, batch) + random_state.randn(batch) * 0.2 # theta\n",
    "  x[ix] = np.c_[r * np.sin(t), r * np.cos(t)]\n",
    "  y[ix, j] = 1.0"
   ]
  },
  {
   "cell_type": "markdown",
   "metadata": {},
   "source": [
    "The dataset is like a rotating galaxy with three spiral arms."
   ]
  },
  {
   "cell_type": "code",
   "execution_count": 3,
   "metadata": {},
   "outputs": [
    {
     "data": {
      "image/png": "[encoded data removed]",
      "text/plain": [
       "<Figure size 720x720 with 1 Axes>"
      ]
     },
     "metadata": {
      "needs_background": "light"
     },
     "output_type": "display_data"
    }
   ],
   "source": [
    "plt.scatter(x[:150, 0], x[:150, 1], color='r')\n",
    "#plt.hold('on')\n",
    "plt.scatter(x[150:300, 0], x[150:300, 1], color='g')\n",
    "plt.scatter(x[300:450, 0], x[300:450, 1], color='b')\n",
    "\n",
    "fig = plt.gcf()\n",
    "fig.set_size_inches(10, 10)\n",
    "\n",
    "plt.show()"
   ]
  },
  {
   "cell_type": "code",
   "execution_count": 4,
   "metadata": {},
   "outputs": [
    {
     "data": {
      "text/plain": [
       "((450, 2), (450, 3))"
      ]
     },
     "execution_count": 4,
     "metadata": {},
     "output_type": "execute_result"
    }
   ],
   "source": [
    "x.shape, y.shape"
   ]
  },
  {
   "cell_type": "code",
   "execution_count": 5,
   "metadata": {},
   "outputs": [],
   "source": [
    "indices = np.arange(batch * classes)\n",
    "random_state.shuffle(indices)\n",
    "\n",
    "x_train = x[indices[:300]]\n",
    "y_train = y[indices[:300]]\n",
    "x_test = x[indices[300:]]\n",
    "y_test = y[indices[300:]]"
   ]
  },
  {
   "cell_type": "markdown",
   "metadata": {},
   "source": [
    "Define the multi-layer perceptron with 2 hidden layers"
   ]
  },
  {
   "cell_type": "code",
   "execution_count": 6,
   "metadata": {},
   "outputs": [],
   "source": [
    "num_hidden1 = 50\n",
    "num_hidden2 = 50\n",
    "reg = 1e-3\n",
    "\n",
    "tni = initializers.TruncatedNormalInitializer(mean=0.0, stddev=0.01, seed=0)\n",
    "zi = initializers.ZerosInitializer()\n",
    "gd = optimizers.GradientDescentOptimizer(alpha=0.1)\n",
    "\n",
    "inputs = ad.placeholder([None, features])\n",
    "labels = ad.placeholder([None, classes])\n",
    "\n",
    "weight1 = ad.variable((features, num_hidden1), tni)\n",
    "bias1 = ad.variable((num_hidden1,), zi)\n",
    "\n",
    "weight2 = ad.variable((num_hidden1, num_hidden2), tni)\n",
    "bias2 = ad.variable((num_hidden2,), zi)\n",
    "\n",
    "weight3 = ad.variable((num_hidden2, classes), tni)\n",
    "bias3 = ad.variable((classes,), zi)\n",
    "\n",
    "hidden1 = ad.relu(ad.matmul(inputs, weight1) + bias1)\n",
    "hidden2 = ad.relu(ad.matmul(hidden1, weight2) + bias2)\n",
    "logits = ad.matmul(hidden2, weight3) + bias3\n",
    "\n",
    "loss = ad.reduce_mean(ad.softmax_cross_entropy_loss(labels=labels, logits=logits))\n",
    "\n",
    "r1 = ad.l2norm(weight1, reg)\n",
    "r2 = ad.l2norm(weight2, reg)\n",
    "r3 = ad.l2norm(weight3, reg)\n",
    "\n",
    "loss = loss + r1 + r2 + r3"
   ]
  },
  {
   "cell_type": "markdown",
   "metadata": {},
   "source": [
    "setup the graph and runtime"
   ]
  },
  {
   "cell_type": "code",
   "execution_count": 7,
   "metadata": {},
   "outputs": [],
   "source": [
    "graph = ad.get_default_graph()\n",
    "graph.initialize_variables()\n",
    "\n",
    "runtime = ad.RunTime()\n",
    "graph.set_runtime(runtime)"
   ]
  },
  {
   "cell_type": "markdown",
   "metadata": {},
   "source": [
    "Training stage: run forward backward cycles on the computational graph."
   ]
  },
  {
   "cell_type": "code",
   "execution_count": 8,
   "metadata": {},
   "outputs": [
    {
     "name": "stdout",
     "output_type": "stream",
     "text": [
      "step: 0, loss: 1.098719\n",
      "step: 1000, loss: 1.095585\n",
      "step: 2000, loss: 1.093743\n",
      "step: 3000, loss: 0.661386\n",
      "step: 4000, loss: 0.268614\n",
      "step: 5000, loss: 0.144478\n",
      "step: 6000, loss: 0.131555\n",
      "step: 7000, loss: 0.127640\n",
      "step: 8000, loss: 0.125688\n",
      "step: 9000, loss: 0.124415\n"
     ]
    }
   ],
   "source": [
    "feed_dict = {inputs: x_train, labels: y_train}\n",
    "for i in range(10000):\n",
    "  with runtime.forward_backward_cycle():\n",
    "    gd.optimize(loss, feed_dict)\n",
    "\n",
    "    if i % 1000 == 0:\n",
    "      print('step: %d, loss: %f' % (i, loss.forward(feed_dict)))"
   ]
  },
  {
   "cell_type": "markdown",
   "metadata": {},
   "source": [
    "Evaluate on test set."
   ]
  },
  {
   "cell_type": "code",
   "execution_count": 9,
   "metadata": {},
   "outputs": [
    {
     "name": "stdout",
     "output_type": "stream",
     "text": [
      "accuracy: 0.9933333333333333\n"
     ]
    }
   ],
   "source": [
    "feed_dict = {inputs: x_test}\n",
    "\n",
    "with runtime.forward_backward_cycle():\n",
    "  logits_val = logits.forward(feed_dict)\n",
    "\n",
    "print('accuracy:', np.mean(np.argmax(logits_val, axis=1) == np.argmax(y_test, axis=1)))"
   ]
  }
 ],
 "metadata": {
  "kernelspec": {
   "display_name": "Python 3",
   "language": "python",
   "name": "python3"
  },
  "language_info": {
   "codemirror_mode": {
    "name": "ipython",
    "version": 3
   },
   "file_extension": ".py",
   "mimetype": "text/x-python",
   "name": "python",
   "nbconvert_exporter": "python",
   "pygments_lexer": "ipython3",
   "version": "3.7.4"
  }
 },
 "nbformat": 4,
 "nbformat_minor": 2
}
