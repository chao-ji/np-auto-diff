{
 "cells": [
  {
   "cell_type": "markdown",
   "metadata": {},
   "source": [
    "We create logistic regression model (i.e. multi-layer perceptron with no hidden layer), and evaluate it on the canonical MNIST dataset. "
   ]
  },
  {
   "cell_type": "code",
   "execution_count": 1,
   "metadata": {},
   "outputs": [],
   "source": [
    "import os\n",
    "import gzip\n",
    "import numpy as np\n",
    "\n",
    "import autodiff as ad\n",
    "from autodiff import initializers\n",
    "from autodiff import optimizers\n",
    "\n",
    "random_state = np.random.RandomState(0)"
   ]
  },
  {
   "cell_type": "code",
   "execution_count": 2,
   "metadata": {},
   "outputs": [],
   "source": [
    "def read_mnist_labels(fn):\n",
    "  with gzip.open(fn, 'rb') as f:\n",
    "    content = f.read()\n",
    "    num_images = int.from_bytes(content[4:8], byteorder='big')\n",
    "    labels = np.zeros((num_images, 10), dtype=np.float32)\n",
    "    indices = np.fromstring(content[8:], dtype=np.uint8)\n",
    "    labels[range(num_images), indices] += 1\n",
    "    \n",
    "  return labels  "
   ]
  },
  {
   "cell_type": "code",
   "execution_count": 3,
   "metadata": {},
   "outputs": [],
   "source": [
    "def read_mnist_images(fn):\n",
    "  with gzip.open(fn, 'rb') as f:\n",
    "    content = f.read()\n",
    "    num_images = int.from_bytes(content[4:8], byteorder='big')\n",
    "    height = int.from_bytes(content[8:12], byteorder='big')\n",
    "    width = int.from_bytes(content[12:16], byteorder='big')\n",
    "    images = np.fromstring(content[16:], dtype=np.uint8).reshape((num_images, height, width))\n",
    "  images = images.astype(np.float32) / 255.  \n",
    "  return images  "
   ]
  },
  {
   "cell_type": "markdown",
   "metadata": {},
   "source": [
    "Make sure you have the downloaded the following 4 files, and place them under the current directory."
   ]
  },
  {
   "cell_type": "code",
   "execution_count": 4,
   "metadata": {},
   "outputs": [],
   "source": [
    "train_images = read_mnist_images('train-images-idx3-ubyte.gz')\n",
    "train_labels = read_mnist_labels('train-labels-idx1-ubyte.gz')\n",
    "test_images = read_mnist_images('t10k-images-idx3-ubyte.gz')\n",
    "test_labels = read_mnist_labels('t10k-labels-idx1-ubyte.gz')"
   ]
  },
  {
   "cell_type": "markdown",
   "metadata": {},
   "source": [
    "Build a logistic regression model with l2 regularization."
   ]
  },
  {
   "cell_type": "code",
   "execution_count": 5,
   "metadata": {},
   "outputs": [],
   "source": [
    "reg = 1e-3\n",
    "tni = initializers.TruncatedNormalInitializer(mean=0.0, stddev=0.01, seed=0)\n",
    "zi = initializers.ZerosInitializer()\n",
    "gd = optimizers.GradientDescentOptimizer(alpha=0.5)\n",
    "\n",
    "inputs = ad.placeholder((None, 784))\n",
    "labels = ad.placeholder((None, 10))\n",
    "weight = ad.variable((784, 10), tni)\n",
    "bias = ad.variable((10,), zi)\n",
    "\n",
    "logits = ad.matmul(inputs, weight) + bias\n",
    "loss = ad.reduce_mean(ad.softmax_cross_entropy_loss(labels, logits))\n",
    "loss = loss + ad.l2norm(weight, reg)"
   ]
  },
  {
   "cell_type": "markdown",
   "metadata": {},
   "source": [
    "setup the graph and runtime"
   ]
  },
  {
   "cell_type": "code",
   "execution_count": 6,
   "metadata": {},
   "outputs": [],
   "source": [
    "graph = ad.get_default_graph()\n",
    "graph.initialize_variables()\n",
    "\n",
    "runtime = ad.RunTime()\n",
    "graph.set_runtime(runtime)"
   ]
  },
  {
   "cell_type": "markdown",
   "metadata": {},
   "source": [
    "Training stage: run forward backward cycles on the computational graph."
   ]
  },
  {
   "cell_type": "code",
   "execution_count": 7,
   "metadata": {},
   "outputs": [
    {
     "name": "stdout",
     "output_type": "stream",
     "text": [
      "step: 0, loss: 2.308650, accuracy: 0.110000\n",
      "step: 100, loss: 0.331418, accuracy: 0.920000\n",
      "step: 200, loss: 0.447669, accuracy: 0.890000\n",
      "step: 300, loss: 0.310958, accuracy: 0.920000\n",
      "step: 400, loss: 0.391424, accuracy: 0.920000\n",
      "step: 500, loss: 0.270926, accuracy: 0.940000\n",
      "step: 600, loss: 0.309336, accuracy: 0.940000\n",
      "step: 700, loss: 0.341731, accuracy: 0.910000\n",
      "step: 800, loss: 0.349404, accuracy: 0.900000\n",
      "step: 900, loss: 0.349697, accuracy: 0.900000\n"
     ]
    }
   ],
   "source": [
    "batch_size = 100\n",
    "for i in range(1000):\n",
    "  which = random_state.choice(train_images.shape[0], batch_size, False)\n",
    "  inputs_val = train_images[which].reshape((batch_size, -1))\n",
    "  labels_val = train_labels[which]\n",
    "\n",
    "  feed_dict = {inputs: inputs_val, labels: labels_val}\n",
    "  \n",
    "  with runtime.forward_backward_cycle():\n",
    "    gd.optimize(loss, feed_dict)\n",
    "\n",
    "    if i % 100 == 0:\n",
    "      loss_val = loss.forward(feed_dict)\n",
    "      logits_val = logits.forward(feed_dict)\n",
    "      print('step: %d, loss: %f, accuracy: %f' % (i, loss_val, np.mean(np.argmax(logits_val, axis=1) == np.argmax(labels_val, axis=1))))\n"
   ]
  },
  {
   "cell_type": "markdown",
   "metadata": {},
   "source": [
    "At this point we are out of the scope of an active `RunTime`, so its attributes should all be empty."
   ]
  },
  {
   "cell_type": "code",
   "execution_count": 8,
   "metadata": {},
   "outputs": [],
   "source": [
    "assert not runtime._fwval\n",
    "assert not runtime._bwval\n",
    "assert not runtime._cache_data"
   ]
  },
  {
   "cell_type": "markdown",
   "metadata": {},
   "source": [
    "But `Variables` still hold their updated values. So we can save the logistic regression variable weights to a file."
   ]
  },
  {
   "cell_type": "code",
   "execution_count": 9,
   "metadata": {},
   "outputs": [],
   "source": [
    "graph.save_variables('lr_weights')"
   ]
  },
  {
   "cell_type": "markdown",
   "metadata": {},
   "source": [
    "And then restore from it."
   ]
  },
  {
   "cell_type": "code",
   "execution_count": 10,
   "metadata": {},
   "outputs": [],
   "source": [
    "var_dict = np.load('lr_weights.npy').item()\n",
    "\n",
    "graph.initialize_variables(var_dict=var_dict)"
   ]
  },
  {
   "cell_type": "markdown",
   "metadata": {},
   "source": [
    "Evaluate on test set using the restored variable weights."
   ]
  },
  {
   "cell_type": "code",
   "execution_count": 11,
   "metadata": {},
   "outputs": [
    {
     "name": "stdout",
     "output_type": "stream",
     "text": [
      "accuracy 0.9159\n"
     ]
    }
   ],
   "source": [
    "feed_dict = {inputs: test_images.reshape((-1, 784))}\n",
    "\n",
    "with runtime.forward_backward_cycle():\n",
    "  logits_val = logits.forward(feed_dict)\n",
    "print('accuracy', np.mean(np.argmax(logits_val, axis=1) == np.argmax(test_labels, axis=1)))"
   ]
  }
 ],
 "metadata": {
  "kernelspec": {
   "display_name": "Python 3",
   "language": "python",
   "name": "python3"
  },
  "language_info": {
   "codemirror_mode": {
    "name": "ipython",
    "version": 3
   },
   "file_extension": ".py",
   "mimetype": "text/x-python",
   "name": "python",
   "nbconvert_exporter": "python",
   "pygments_lexer": "ipython3",
   "version": "3.7.3"
  }
 },
 "nbformat": 4,
 "nbformat_minor": 2
}
