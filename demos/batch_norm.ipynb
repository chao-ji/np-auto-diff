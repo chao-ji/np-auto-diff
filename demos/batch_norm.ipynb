{
 "cells": [
  {
   "cell_type": "markdown",
   "metadata": {},
   "source": [
    "We build a multi-layer perceptron with its hidden layers batch normalized, and contrast it with the version without\n",
    "batch normalization.\n",
    "\n",
    "We train and evaluate both versions of the multi-layer perceptron on MNIST dataset."
   ]
  },
  {
   "cell_type": "code",
   "execution_count": 1,
   "metadata": {},
   "outputs": [],
   "source": [
    "import os\n",
    "import gzip\n",
    "import numpy as np\n",
    "import matplotlib.pyplot as plt\n",
    "\n",
    "import autodiff as ad\n",
    "from autodiff import initializers\n",
    "from autodiff import optimizers\n",
    "\n",
    "random_state = np.random.RandomState(0)"
   ]
  },
  {
   "cell_type": "code",
   "execution_count": 2,
   "metadata": {},
   "outputs": [],
   "source": [
    "def read_mnist_labels(fn):\n",
    "  with gzip.open(fn, 'rb') as f:\n",
    "    content = f.read()\n",
    "    num_images = int.from_bytes(content[4:8], byteorder='big')\n",
    "    labels = np.zeros((num_images, 10), dtype=np.float32)\n",
    "    indices = np.fromstring(content[8:], dtype=np.uint8)\n",
    "    labels[range(num_images), indices] += 1\n",
    "    \n",
    "  return labels  "
   ]
  },
  {
   "cell_type": "code",
   "execution_count": 3,
   "metadata": {},
   "outputs": [],
   "source": [
    "def read_mnist_images(fn):\n",
    "  with gzip.open(fn, 'rb') as f:\n",
    "    content = f.read()\n",
    "    num_images = int.from_bytes(content[4:8], byteorder='big')\n",
    "    height = int.from_bytes(content[8:12], byteorder='big')\n",
    "    width = int.from_bytes(content[12:16], byteorder='big')\n",
    "    images = np.fromstring(content[16:], dtype=np.uint8).reshape((num_images, height, width))\n",
    "  images = images.astype(np.float32) / 255.  \n",
    "  return images  "
   ]
  },
  {
   "cell_type": "markdown",
   "metadata": {},
   "source": [
    "Make sure you have the downloaded the following 4 files, and place them under the current directory."
   ]
  },
  {
   "cell_type": "code",
   "execution_count": 4,
   "metadata": {},
   "outputs": [],
   "source": [
    "train_images = read_mnist_images('train-images-idx3-ubyte.gz')\n",
    "train_labels = read_mnist_labels('train-labels-idx1-ubyte.gz')\n",
    "test_images = read_mnist_images('t10k-images-idx3-ubyte.gz')\n",
    "test_labels = read_mnist_labels('t10k-labels-idx1-ubyte.gz')"
   ]
  },
  {
   "cell_type": "code",
   "execution_count": 5,
   "metadata": {},
   "outputs": [],
   "source": [
    "tni = initializers.TruncatedNormalInitializer(mean=0.0, stddev=0.01, seed=0)\n",
    "zi = initializers.ZerosInitializer()\n",
    "oi = initializers.OnesInitializer()"
   ]
  },
  {
   "cell_type": "markdown",
   "metadata": {},
   "source": [
    "Build the version of MLP with batch norm. Note the function `fused_batch_norm` takes the moving statistics as input. They will be updated in training mode, and treated as estimates of population statistics in test mode."
   ]
  },
  {
   "cell_type": "code",
   "execution_count": 6,
   "metadata": {},
   "outputs": [],
   "source": [
    "def build_batch_norm(is_training=True, epsilon=1e-3, decay=0.997):\n",
    "  inputs = ad.placeholder((None, 784))\n",
    "  labels = ad.placeholder((None, 10))\n",
    "\n",
    "  weight1 = ad.variable((784, 100), tni)\n",
    "  offset1 = ad.variable((100,), zi)\n",
    "  scale1 = ad.variable((100,), oi)\n",
    "  moving_mean1 = ad.variable((100,), zi, trainable=False)\n",
    "  moving_variance1 = ad.variable((100,), oi, trainable=False)\n",
    "\n",
    "  weight2 = ad.variable((100, 100), tni)\n",
    "  offset2 = ad.variable((100,), zi)\n",
    "  scale2 = ad.variable((100,), oi)\n",
    "  moving_mean2 = ad.variable((100,), zi, trainable=False)\n",
    "  moving_variance2 = ad.variable((100,), oi, trainable=False)\n",
    "\n",
    "  weight3 = ad.variable((100, 10), tni)\n",
    "  bias3 = ad.variable((10,), zi)\n",
    "  \n",
    "  hidden1 = ad.matmul(inputs, weight1)\n",
    "  hidden1 = ad.fused_batch_norm(\n",
    "    hidden1, scale1, offset1, moving_mean1, moving_variance1,\n",
    "    epsilon=epsilon, decay=decay, is_training=is_training)\n",
    "  hidden1 = ad.sigmoid(hidden1)\n",
    "\n",
    "  hidden2 = ad.matmul(hidden1, weight2)\n",
    "  hidden2 = ad.fused_batch_norm(\n",
    "    hidden2, scale2, offset2, moving_mean2, moving_variance2,\n",
    "    epsilon=epsilon, decay=decay, is_training=is_training)\n",
    "  hidden2 = ad.sigmoid(hidden2)\n",
    "\n",
    "  logits = ad.matmul(hidden2, weight3) + bias3\n",
    "  loss = ad.softmax_cross_entropy_loss(labels, logits)\n",
    "  return inputs, labels, logits, loss"
   ]
  },
  {
   "cell_type": "markdown",
   "metadata": {},
   "source": [
    "Build the version of MLP without batch norm."
   ]
  },
  {
   "cell_type": "code",
   "execution_count": 7,
   "metadata": {},
   "outputs": [],
   "source": [
    "def build_mlp():\n",
    "  inputs = ad.placeholder((None, 784))\n",
    "  labels = ad.placeholder((None, 10))\n",
    "\n",
    "  weight1 = ad.variable((784, 100), tni)\n",
    "  bias1 = ad.variable((100,), zi)\n",
    "  weight2 = ad.variable((100, 100), tni)\n",
    "  bias2 = ad.variable((100,), zi)\n",
    "  weight3 = ad.variable((100, 10), tni)\n",
    "  bias3 = ad.variable((10,), zi)\n",
    "\n",
    "  hidden1 = ad.matmul(inputs, weight1) + bias1\n",
    "  hidden1 = ad.sigmoid(hidden1)\n",
    "\n",
    "  hidden2 = ad.matmul(hidden1, weight2) + bias2\n",
    "  hidden2 = ad.sigmoid(hidden2)\n",
    "  \n",
    "  logits = ad.matmul(hidden2, weight3) + bias3\n",
    "  loss = ad.softmax_cross_entropy_loss(labels, logits)\n",
    "  return inputs, labels, logits, loss"
   ]
  },
  {
   "cell_type": "markdown",
   "metadata": {},
   "source": [
    "We create three separate graphs, which hold the MLP w/ BN in training mode, MLP w/ BN in test mode, and the regular MLP w/o BN."
   ]
  },
  {
   "cell_type": "code",
   "execution_count": 8,
   "metadata": {},
   "outputs": [],
   "source": [
    "graph_bn = ad.Graph()\n",
    "with graph_bn.as_default_graph():\n",
    "  (inputs_bn, labels_bn, logits_bn, loss_bn,\n",
    "    ) = build_batch_norm(is_training=True)\n",
    "\n",
    "graph_bn_test = ad.Graph()\n",
    "with graph_bn_test.as_default_graph():\n",
    "  (inputs_bn_test, labels_bn_test, logits_bn_test, loss_bn_test,\n",
    "   ) = build_batch_norm(is_training=False)  \n",
    "  \n",
    "graph = ad.Graph()\n",
    "with graph.as_default_graph():\n",
    "  inputs, labels, logits, loss = build_mlp()"
   ]
  },
  {
   "cell_type": "markdown",
   "metadata": {},
   "source": [
    "Create three `RunTime` instances, so the three graphs can be run separately."
   ]
  },
  {
   "cell_type": "code",
   "execution_count": 9,
   "metadata": {},
   "outputs": [],
   "source": [
    "# MLP w/ BN in training mode\n",
    "graph_bn.initialize_variables()\n",
    "runtime_bn = ad.RunTime()\n",
    "graph_bn.set_runtime(runtime_bn)\n",
    "# MLP w/ BN in test mode\n",
    "graph_bn_test.initialize_variables()\n",
    "runtime_bn_test = ad.RunTime()\n",
    "graph_bn_test.set_runtime(runtime_bn_test)\n",
    "# MLP w/o BN \n",
    "graph.initialize_variables()\n",
    "runtime = ad.RunTime()\n",
    "graph.set_runtime(runtime)\n",
    "\n",
    "# For BN, get the references to the variable nodes for training and test graph\n",
    "# so we can assign variable's value in training graph to test graph  \n",
    "weights_bn = graph_bn.get_variables(False)\n",
    "weights_bn_test = graph_bn_test.get_variables(False)"
   ]
  },
  {
   "cell_type": "code",
   "execution_count": 10,
   "metadata": {},
   "outputs": [],
   "source": [
    "gd = optimizers.GradientDescentOptimizer(alpha=0.01)"
   ]
  },
  {
   "cell_type": "markdown",
   "metadata": {},
   "source": [
    "As we train both MLPs, we compute the accuracy on test set every 50 mini-batches."
   ]
  },
  {
   "cell_type": "code",
   "execution_count": 11,
   "metadata": {},
   "outputs": [],
   "source": [
    "iterations = 30000\n",
    "batch = 50\n",
    "\n",
    "accuracies_bn = []\n",
    "accuracies = []\n",
    "\n",
    "for i in range(iterations):\n",
    "  which = random_state.choice(train_images.shape[0], batch, False)\n",
    "  inputs_val = train_images[which].reshape((-1, 784))\n",
    "  labels_val = train_labels[which]\n",
    "\n",
    "  feed_dict_bn = {inputs_bn: inputs_val, labels_bn: labels_val}\n",
    "  feed_dict = {inputs: inputs_val, labels: labels_val}\n",
    "\n",
    "  \n",
    "  with runtime_bn.forward_backward_cycle():\n",
    "    gd.optimize(loss_bn, feed_dict_bn)\n",
    "    \n",
    "  with runtime.forward_backward_cycle():\n",
    "    gd.optimize(loss, feed_dict)\n",
    "    \n",
    "  # compute test accuracy every 50 mini batches  \n",
    "  if i % 50 == 0:\n",
    "    inputs_val = test_images.reshape((-1, 784))\n",
    "    labels_val = test_labels\n",
    "    \n",
    "    feed_dict_bn_test = {inputs_bn_test: inputs_val}\n",
    "    feed_dict = {inputs: inputs_val}\n",
    "    # assgin variable's value in training graph to test graph\n",
    "    for w_bn_test, w_bn in zip(weights_bn_test, weights_bn):\n",
    "      w_bn_test.set_val(w_bn.val)\n",
    "    \n",
    "    with runtime_bn_test.forward_backward_cycle():\n",
    "      logits_bn_test_val = logits_bn_test.forward(feed_dict_bn_test)\n",
    "      \n",
    "    with runtime.forward_backward_cycle():\n",
    "      logits_val = logits.forward(feed_dict)\n",
    "     \n",
    "    acc_bn = np.mean(np.argmax(logits_bn_test_val, axis=1) == np.argmax(labels_val, axis=1))\n",
    "    acc = np.mean(np.argmax(logits_val, axis=1) == np.argmax(labels_val, axis=1))\n",
    "\n",
    "    accuracies_bn.append((i, acc_bn))\n",
    "    accuracies.append((i, acc))\n",
    "\n",
    "accuracies_bn = np.array(accuracies_bn)\n",
    "accuracies = np.array(accuracies)    "
   ]
  },
  {
   "cell_type": "markdown",
   "metadata": {},
   "source": [
    "Test accuracy is plot as a function of training iterations.\n",
    "\n",
    "**The MLP w/ BN clearly converges faster, and generalizes better the version w/o BN.**"
   ]
  },
  {
   "cell_type": "code",
   "execution_count": 12,
   "metadata": {},
   "outputs": [
    {
     "data": {
      "image/png": "[encoded data removed]",
      "text/plain": [
       "<Figure size 864x432 with 1 Axes>"
      ]
     },
     "metadata": {
      "needs_background": "light"
     },
     "output_type": "display_data"
    }
   ],
   "source": [
    "plt.plot(accuracies_bn[:, 0], accuracies_bn[:, 1], color='r')\n",
    "plt.plot(accuracies[:, 0], accuracies[:, 1], color='b')\n",
    "\n",
    "plt.ylim([0.8, 1.])\n",
    "plt.legend(['w/ batch norm', 'w/o batch norm'])\n",
    "plt.xlabel('iterations')\n",
    "plt.ylabel('test accuracy')\n",
    "fig = plt.gcf()\n",
    "fig.set_size_inches(12, 6)\n",
    "plt.show()"
   ]
  }
 ],
 "metadata": {
  "kernelspec": {
   "display_name": "Python 3",
   "language": "python",
   "name": "python3"
  },
  "language_info": {
   "codemirror_mode": {
    "name": "ipython",
    "version": 3
   },
   "file_extension": ".py",
   "mimetype": "text/x-python",
   "name": "python",
   "nbconvert_exporter": "python",
   "pygments_lexer": "ipython3",
   "version": "3.7.3"
  }
 },
 "nbformat": 4,
 "nbformat_minor": 2
}
